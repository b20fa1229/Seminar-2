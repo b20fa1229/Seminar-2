{
 "cells": [
  {
   "cell_type": "code",
   "execution_count": 13,
   "id": "abf33ac6",
   "metadata": {},
   "outputs": [
    {
     "name": "stdout",
     "output_type": "stream",
     "text": [
      "Enter the value:1325\n",
      "palimdrom bish\n"
     ]
    }
   ],
   "source": [
    "#1\n",
    "s= input(\"Enter the value:\")\n",
    "reverse=s[::-1]\n",
    "if(s==reverse):\n",
    "    print(\"palimdrom mun\")\n",
    "else:\n",
    "    print(\"palimdrom bish\")\n",
    "    "
   ]
  },
  {
   "cell_type": "code",
   "execution_count": 14,
   "id": "193c00f1",
   "metadata": {
    "scrolled": true
   },
   "outputs": [
    {
     "name": "stdout",
     "output_type": "stream",
     "text": [
      "palimdrom  mun\n"
     ]
    }
   ],
   "source": [
    "#1\n",
    "x=\"tenet\"\n",
    "y=\"\"\n",
    "for i in x:\n",
    "    y=i+y\n",
    "if (x==y):\n",
    "    print(\"palimdrom  mun\")\n",
    "else:\n",
    "    print(\"palimdrom  bish\")"
   ]
  },
  {
   "cell_type": "code",
   "execution_count": 16,
   "id": "190b3127",
   "metadata": {},
   "outputs": [
    {
     "name": "stdout",
     "output_type": "stream",
     "text": [
      "palimdrom mun\n"
     ]
    }
   ],
   "source": [
    "#1\n",
    "\n",
    "st = 'malayalam'\n",
    "j = -1\n",
    "flag = 0\n",
    "for i in st:\n",
    "    if i != st[j]:\n",
    "        flag = 1\n",
    "        break\n",
    "    j = j - 1\n",
    "if flag == 1:\n",
    "    print(\" palimdrom bish \")\n",
    "else:\n",
    "    print(\"palimdrom mun\")"
   ]
  },
  {
   "cell_type": "code",
   "execution_count": 21,
   "id": "2edd4dc1",
   "metadata": {},
   "outputs": [
    {
     "name": "stdout",
     "output_type": "stream",
     "text": [
      "Hello world\n",
      "Upper case: 1\n",
      "lower case: 9\n"
     ]
    }
   ],
   "source": [
    "#2\n",
    "text=input()\n",
    "d={\"upper_case\":0,\"lower_case\":0}\n",
    "for c in text:\n",
    "    if c.isupper():\n",
    "        d[\"upper_case\"]+=1\n",
    "    elif c.islower():\n",
    "        d[\"lower_case\"]+=1\n",
    "    else:\n",
    "        pass\n",
    "print(\"Upper case: \"+str (d[\"upper_case\"]))    \n",
    "print(\"lower case: \"+str (d[\"lower_case\"]))  "
   ]
  },
  {
   "cell_type": "code",
   "execution_count": 22,
   "id": "eb677d31",
   "metadata": {},
   "outputs": [
    {
     "name": "stdout",
     "output_type": "stream",
     "text": [
      "Lower case characters = 4 Upper case characters = 1\n"
     ]
    }
   ],
   "source": [
    "#2\n",
    "def upperlower(string):\n",
    "  \n",
    "    upper = 0\n",
    "    lower = 0\n",
    "  \n",
    "    for i in range(len(string)):\n",
    "          \n",
    "        \n",
    "        if (ord(string[i]) >= 97 and\n",
    "            ord(string[i]) <= 122):\n",
    "            lower += 1\n",
    "  \n",
    "        \n",
    "        elif (ord(string[i]) >= 65 and\n",
    "              ord(string[i]) <= 90):\n",
    "            upper += 1\n",
    "  \n",
    "    print('Lower case characters = %s' %lower,\n",
    "          'Upper case characters = %s' %upper)\n",
    "\n",
    "string = 'Nmaun'\n",
    "upperlower(string)"
   ]
  },
  {
   "cell_type": "code",
   "execution_count": 8,
   "id": "dc4472cc",
   "metadata": {},
   "outputs": [
    {
     "name": "stdout",
     "output_type": "stream",
     "text": [
      "Enter the number:6\n",
      "6!=720\n"
     ]
    }
   ],
   "source": [
    "#4\n",
    "number=int(input(\"Enter the number:\"))\n",
    "factorial=1\n",
    "if(number<0):\n",
    "    print(\"Can not computer factorial for Negative number\")\n",
    "elif(number<2):\n",
    "    print(\"{}!={}\".format(number,factorial))\n",
    "else:\n",
    "    for num in range(number, 1, -1):\n",
    "        factorial=factorial*num\n",
    "    print(\"{}!={}\".format(number,factorial))  "
   ]
  },
  {
   "cell_type": "code",
   "execution_count": 6,
   "id": "e57401a0",
   "metadata": {},
   "outputs": [
    {
     "name": "stdout",
     "output_type": "stream",
     "text": [
      "6\n"
     ]
    }
   ],
   "source": [
    "#3\n",
    " \n",
    "def multiplyList(myList) :\n",
    "     \n",
    "   \n",
    "    result = 1\n",
    "    for x in myList:\n",
    "         result = result * x\n",
    "    return result\n",
    "     \n",
    "\n",
    "list1 = [1, 2, 3]\n",
    "\n",
    "print(multiplyList(list1))\n"
   ]
  },
  {
   "cell_type": "code",
   "execution_count": 7,
   "id": "97a7b232",
   "metadata": {},
   "outputs": [
    {
     "name": "stdout",
     "output_type": "stream",
     "text": [
      "[15, 14, 13, 12, 11, 10]\n"
     ]
    }
   ],
   "source": [
    "#5\n",
    "def Reverse(lst):\n",
    "    return [ele for ele in reversed(lst)]\n",
    "     \n",
    "\n",
    "lst = [10, 11, 12, 13, 14, 15]\n",
    "print(Reverse(lst))"
   ]
  },
  {
   "cell_type": "code",
   "execution_count": 21,
   "id": "585213ec",
   "metadata": {},
   "outputs": [
    {
     "name": "stdout",
     "output_type": "stream",
     "text": [
      "Sum of all elements in given list:  74\n"
     ]
    }
   ],
   "source": [
    "#6\n",
    "total = 0\n",
    " \n",
    "\n",
    "list1 = [11, 5, 17, 18, 23]\n",
    " \n",
    "\n",
    "for ele in range(0, len(list1)):\n",
    "    total = total + list1[ele]\n",
    "print(\"Sum of all elements in given list: \", total)"
   ]
  },
  {
   "cell_type": "code",
   "execution_count": 20,
   "id": "915f9fa5",
   "metadata": {},
   "outputs": [
    {
     "name": "stdout",
     "output_type": "stream",
     "text": [
      "The original list is : [1, 5, 3, 6, 3, 5, 6, 1]\n",
      "The list after removing duplicates : [1, 3, 5, 6]\n"
     ]
    }
   ],
   "source": [
    "#7\n",
    "test_list = [1, 5, 3, 6, 3, 5, 6, 1]\n",
    "print (\"The original list is : \" +  str(test_list))\n",
    "  \n",
    "test_list = list(set(test_list))\n",
    "\n",
    "print (\"The list after removing duplicates : \" + str(test_list))"
   ]
  },
  {
   "cell_type": "code",
   "execution_count": 19,
   "id": "7227e85b",
   "metadata": {},
   "outputs": [
    {
     "name": "stdout",
     "output_type": "stream",
     "text": [
      "14\n"
     ]
    }
   ],
   "source": [
    "#8\n",
    "def maximum(list):\n",
    "    list = [10, 14, 12]\n",
    "    return max(list)\n",
    "  \n",
    "print(maximum(list))"
   ]
  },
  {
   "cell_type": "code",
   "execution_count": null,
   "id": "37701ffe",
   "metadata": {},
   "outputs": [],
   "source": [
    "\n"
   ]
  },
  {
   "cell_type": "code",
   "execution_count": null,
   "id": "84319d23",
   "metadata": {},
   "outputs": [],
   "source": []
  },
  {
   "cell_type": "code",
   "execution_count": null,
   "id": "1e1225ee",
   "metadata": {},
   "outputs": [],
   "source": []
  }
 ],
 "metadata": {
  "kernelspec": {
   "display_name": "Python 3",
   "language": "python",
   "name": "python3"
  },
  "language_info": {
   "codemirror_mode": {
    "name": "ipython",
    "version": 3
   },
   "file_extension": ".py",
   "mimetype": "text/x-python",
   "name": "python",
   "nbconvert_exporter": "python",
   "pygments_lexer": "ipython3",
   "version": "3.8.8"
  }
 },
 "nbformat": 4,
 "nbformat_minor": 5
}
